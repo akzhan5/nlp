{
 "cells": [
  {
   "cell_type": "code",
   "execution_count": 1,
   "metadata": {},
   "outputs": [],
   "source": [
    "import pandas as pd\n",
    "import numpy as np\n",
    "from tqdm import tqdm_notebook\n"
   ]
  },
  {
   "cell_type": "code",
   "execution_count": 3,
   "metadata": {},
   "outputs": [
    {
     "name": "stderr",
     "output_type": "stream",
     "text": [
      "/var/folders/4l/l1pcml7s3_549xpbgw8r_5hm0000gn/T/ipykernel_27905/2382939539.py:1: DtypeWarning: Columns (3) have mixed types. Specify dtype option on import or set low_memory=False.\n",
      "  ds = pd.read_csv('lenta-ru-news.csv')\n"
     ]
    },
    {
     "data": {
      "text/html": [
       "<div>\n",
       "<style scoped>\n",
       "    .dataframe tbody tr th:only-of-type {\n",
       "        vertical-align: middle;\n",
       "    }\n",
       "\n",
       "    .dataframe tbody tr th {\n",
       "        vertical-align: top;\n",
       "    }\n",
       "\n",
       "    .dataframe thead th {\n",
       "        text-align: right;\n",
       "    }\n",
       "</style>\n",
       "<table border=\"1\" class=\"dataframe\">\n",
       "  <thead>\n",
       "    <tr style=\"text-align: right;\">\n",
       "      <th></th>\n",
       "      <th>url</th>\n",
       "      <th>title</th>\n",
       "      <th>text</th>\n",
       "      <th>topic</th>\n",
       "      <th>tags</th>\n",
       "      <th>date</th>\n",
       "    </tr>\n",
       "  </thead>\n",
       "  <tbody>\n",
       "    <tr>\n",
       "      <th>0</th>\n",
       "      <td>https://lenta.ru/news/1914/09/16/hungarnn/</td>\n",
       "      <td>1914. Русские войска вступили в пределы Венгрии</td>\n",
       "      <td>Бои у Сопоцкина и Друскеник закончились отступ...</td>\n",
       "      <td>Библиотека</td>\n",
       "      <td>Первая мировая</td>\n",
       "      <td>1914/09/16</td>\n",
       "    </tr>\n",
       "    <tr>\n",
       "      <th>1</th>\n",
       "      <td>https://lenta.ru/news/1914/09/16/lermontov/</td>\n",
       "      <td>1914. Празднование столетия М.Ю. Лермонтова от...</td>\n",
       "      <td>Министерство народного просвещения, в виду про...</td>\n",
       "      <td>Библиотека</td>\n",
       "      <td>Первая мировая</td>\n",
       "      <td>1914/09/16</td>\n",
       "    </tr>\n",
       "    <tr>\n",
       "      <th>2</th>\n",
       "      <td>https://lenta.ru/news/1914/09/17/nesteroff/</td>\n",
       "      <td>1914. Das ist Nesteroff!</td>\n",
       "      <td>Штабс-капитан П. Н. Нестеров на днях, увидев в...</td>\n",
       "      <td>Библиотека</td>\n",
       "      <td>Первая мировая</td>\n",
       "      <td>1914/09/17</td>\n",
       "    </tr>\n",
       "    <tr>\n",
       "      <th>3</th>\n",
       "      <td>https://lenta.ru/news/1914/09/17/bulldogn/</td>\n",
       "      <td>1914. Бульдог-гонец под Льежем</td>\n",
       "      <td>Фотограф-корреспондент Daily Mirror рассказыва...</td>\n",
       "      <td>Библиотека</td>\n",
       "      <td>Первая мировая</td>\n",
       "      <td>1914/09/17</td>\n",
       "    </tr>\n",
       "    <tr>\n",
       "      <th>4</th>\n",
       "      <td>https://lenta.ru/news/1914/09/18/zver/</td>\n",
       "      <td>1914. Под Люблином пойман швабский зверь</td>\n",
       "      <td>Лица, приехавшие в Варшаву из Люблина, передаю...</td>\n",
       "      <td>Библиотека</td>\n",
       "      <td>Первая мировая</td>\n",
       "      <td>1914/09/18</td>\n",
       "    </tr>\n",
       "  </tbody>\n",
       "</table>\n",
       "</div>"
      ],
      "text/plain": [
       "                                           url  \\\n",
       "0   https://lenta.ru/news/1914/09/16/hungarnn/   \n",
       "1  https://lenta.ru/news/1914/09/16/lermontov/   \n",
       "2  https://lenta.ru/news/1914/09/17/nesteroff/   \n",
       "3   https://lenta.ru/news/1914/09/17/bulldogn/   \n",
       "4       https://lenta.ru/news/1914/09/18/zver/   \n",
       "\n",
       "                                               title  \\\n",
       "0  1914. Русские войска вступили в пределы Венгрии     \n",
       "1  1914. Празднование столетия М.Ю. Лермонтова от...   \n",
       "2                           1914. Das ist Nesteroff!   \n",
       "3                    1914. Бульдог-гонец под Льежем    \n",
       "4           1914. Под Люблином пойман швабский зверь   \n",
       "\n",
       "                                                text       topic  \\\n",
       "0  Бои у Сопоцкина и Друскеник закончились отступ...  Библиотека   \n",
       "1  Министерство народного просвещения, в виду про...  Библиотека   \n",
       "2  Штабс-капитан П. Н. Нестеров на днях, увидев в...  Библиотека   \n",
       "3  Фотограф-корреспондент Daily Mirror рассказыва...  Библиотека   \n",
       "4  Лица, приехавшие в Варшаву из Люблина, передаю...  Библиотека   \n",
       "\n",
       "             tags        date  \n",
       "0  Первая мировая  1914/09/16  \n",
       "1  Первая мировая  1914/09/16  \n",
       "2  Первая мировая  1914/09/17  \n",
       "3  Первая мировая  1914/09/17  \n",
       "4  Первая мировая  1914/09/18  "
      ]
     },
     "execution_count": 3,
     "metadata": {},
     "output_type": "execute_result"
    }
   ],
   "source": [
    "ds = pd.read_csv('lenta-ru-news.csv')\n",
    "ds.head()"
   ]
  },
  {
   "cell_type": "code",
   "execution_count": 4,
   "metadata": {},
   "outputs": [
    {
     "data": {
      "text/plain": [
       "(800975, 6)"
      ]
     },
     "execution_count": 4,
     "metadata": {},
     "output_type": "execute_result"
    }
   ],
   "source": [
    "ds.shape"
   ]
  },
  {
   "cell_type": "code",
   "execution_count": 5,
   "metadata": {},
   "outputs": [
    {
     "data": {
      "text/plain": [
       "url          0\n",
       "title        0\n",
       "text         5\n",
       "topic    62002\n",
       "tags     27219\n",
       "date         0\n",
       "dtype: int64"
      ]
     },
     "execution_count": 5,
     "metadata": {},
     "output_type": "execute_result"
    }
   ],
   "source": [
    "ds.isnull().sum()"
   ]
  },
  {
   "cell_type": "code",
   "execution_count": 6,
   "metadata": {},
   "outputs": [
    {
     "data": {
      "text/plain": [
       "(712654, 6)"
      ]
     },
     "execution_count": 6,
     "metadata": {},
     "output_type": "execute_result"
    }
   ],
   "source": [
    "ds.dropna(inplace= True)\n",
    "ds.shape"
   ]
  },
  {
   "cell_type": "code",
   "execution_count": 7,
   "metadata": {},
   "outputs": [],
   "source": [
    "ds_sample = ds.sample(n=1000)\n",
    "ds_sample.to_csv('ds_sample.csv',index = False)"
   ]
  },
  {
   "cell_type": "code",
   "execution_count": 8,
   "metadata": {},
   "outputs": [],
   "source": [
    "new_data = pd.read_csv('ds_sample.csv')"
   ]
  },
  {
   "cell_type": "code",
   "execution_count": 9,
   "metadata": {},
   "outputs": [
    {
     "data": {
      "text/plain": [
       "(1000, 6)"
      ]
     },
     "execution_count": 9,
     "metadata": {},
     "output_type": "execute_result"
    }
   ],
   "source": [
    "new_data.dropna(inplace = True)\n",
    "new_data.shape"
   ]
  },
  {
   "cell_type": "markdown",
   "metadata": {},
   "source": [
    "# Data exploration"
   ]
  },
  {
   "cell_type": "code",
   "execution_count": 10,
   "metadata": {},
   "outputs": [],
   "source": [
    "from collections import Counter"
   ]
  },
  {
   "cell_type": "code",
   "execution_count": 11,
   "metadata": {},
   "outputs": [
    {
     "data": {
      "text/plain": [
       "tags\n",
       "Все                     614\n",
       "Политика                 44\n",
       "Общество                 43\n",
       "Происшествия             31\n",
       "Футбол                   25\n",
       "Интернет                 16\n",
       "Украина                  15\n",
       "Госэкономика             14\n",
       "Бизнес                   13\n",
       "Кино                     11\n",
       "Звери                    10\n",
       "ТВ и радио                9\n",
       "Игры                      9\n",
       "Наука                     8\n",
       "Летние виды               7\n",
       "Следствие и суд           7\n",
       "Музыка                    7\n",
       "Город                     6\n",
       "Космос                    6\n",
       "Гаджеты                   5\n",
       "Люди                      5\n",
       "Мир                       5\n",
       "Coцсети                   5\n",
       "Закавказье                4\n",
       "Вирусные ролики           4\n",
       "События                   4\n",
       "Рынки                     4\n",
       "Квартира                  4\n",
       "Криминал                  4\n",
       "Явления                   4\n",
       "Преступность              4\n",
       "Белоруссия                3\n",
       "Зимние виды               3\n",
       "Театр                     3\n",
       "Бокс и ММА                3\n",
       "Средняя Азия              3\n",
       "Регионы                   3\n",
       "Мнения                    3\n",
       "Конфликты                 2\n",
       "Стиль                     2\n",
       "Москва                    2\n",
       "Дача                      2\n",
       "Деньги                    2\n",
       "Искусство                 2\n",
       "Пресса                    2\n",
       "Софт                      2\n",
       "Полиция и спецслужбы      2\n",
       "Деловой климат            2\n",
       "Прибалтика                1\n",
       "Оружие                    1\n",
       "Движение                  1\n",
       "Еда                       1\n",
       "Россия                    1\n",
       "Авто                      1\n",
       "Часы                      1\n",
       "Жизнь                     1\n",
       "Мировой бизнес            1\n",
       "Социальная сфера          1\n",
       "Книги                     1\n",
       "Внешний вид               1\n",
       "Name: count, dtype: int64"
      ]
     },
     "execution_count": 11,
     "metadata": {},
     "output_type": "execute_result"
    }
   ],
   "source": [
    "ds_sample['tags'].value_counts()"
   ]
  },
  {
   "cell_type": "code",
   "execution_count": 12,
   "metadata": {
    "scrolled": true
   },
   "outputs": [
    {
     "data": {
      "text/plain": [
       "Counter({'Все': 614,\n",
       "         'Политика': 44,\n",
       "         'Общество': 43,\n",
       "         'Происшествия': 31,\n",
       "         'Футбол': 25,\n",
       "         'Интернет': 16,\n",
       "         'Украина': 15,\n",
       "         'Госэкономика': 14,\n",
       "         'Бизнес': 13,\n",
       "         'Кино': 11,\n",
       "         'Звери': 10,\n",
       "         'Игры': 9,\n",
       "         'ТВ и радио': 9,\n",
       "         'Наука': 8,\n",
       "         'Летние виды': 7,\n",
       "         'Следствие и суд': 7,\n",
       "         'Музыка': 7,\n",
       "         'Космос': 6,\n",
       "         'Город': 6,\n",
       "         'Coцсети': 5,\n",
       "         'Гаджеты': 5,\n",
       "         'Мир': 5,\n",
       "         'Люди': 5,\n",
       "         'Преступность': 4,\n",
       "         'Криминал': 4,\n",
       "         'Явления': 4,\n",
       "         'Рынки': 4,\n",
       "         'Квартира': 4,\n",
       "         'События': 4,\n",
       "         'Вирусные ролики': 4,\n",
       "         'Закавказье': 4,\n",
       "         'Средняя Азия': 3,\n",
       "         'Бокс и ММА': 3,\n",
       "         'Зимние виды': 3,\n",
       "         'Мнения': 3,\n",
       "         'Белоруссия': 3,\n",
       "         'Театр': 3,\n",
       "         'Регионы': 3,\n",
       "         'Полиция и спецслужбы': 2,\n",
       "         'Деловой климат': 2,\n",
       "         'Софт': 2,\n",
       "         'Пресса': 2,\n",
       "         'Искусство': 2,\n",
       "         'Деньги': 2,\n",
       "         'Дача': 2,\n",
       "         'Москва': 2,\n",
       "         'Стиль': 2,\n",
       "         'Конфликты': 2,\n",
       "         'Россия': 1,\n",
       "         'Часы': 1,\n",
       "         'Оружие': 1,\n",
       "         'Прибалтика': 1,\n",
       "         'Движение': 1,\n",
       "         'Еда': 1,\n",
       "         'Авто': 1,\n",
       "         'Жизнь': 1,\n",
       "         'Мировой бизнес': 1,\n",
       "         'Социальная сфера': 1,\n",
       "         'Книги': 1,\n",
       "         'Внешний вид': 1})"
      ]
     },
     "execution_count": 12,
     "metadata": {},
     "output_type": "execute_result"
    }
   ],
   "source": [
    "Counter(ds_sample.tags)"
   ]
  },
  {
   "cell_type": "code",
   "execution_count": 13,
   "metadata": {
    "scrolled": true
   },
   "outputs": [
    {
     "data": {
      "text/plain": [
       "{'Все': 453581,\n",
       " 'Политика': 33220,\n",
       " 'Общество': 27560,\n",
       " 'Украина': 17934,\n",
       " 'Происшествия': 15972,\n",
       " 'Футбол': 13128,\n",
       " 'Госэкономика': 12869,\n",
       " 'Кино': 9109,\n",
       " 'Бизнес': 8224,\n",
       " 'Интернет': 7945,\n",
       " 'Наука': 6975,\n",
       " 'Следствие и суд': 6825,\n",
       " 'Музыка': 5822,\n",
       " 'Люди': 5184,\n",
       " 'Преступность': 4737,\n",
       " 'Квартира': 3759,\n",
       " 'Космос': 3622,\n",
       " 'События': 3161,\n",
       " 'Конфликты': 3136,\n",
       " 'ТВ и радио': 3028,\n",
       " 'Coцсети': 2924,\n",
       " 'Летние виды': 2893,\n",
       " 'Деловой климат': 2656,\n",
       " 'Регионы': 2639,\n",
       " 'Криминал': 2550,\n",
       " 'Явления': 2523,\n",
       " 'Бокс и ММА': 2443,\n",
       " 'Звери': 2278,\n",
       " 'Город': 2247,\n",
       " 'Гаджеты': 2183,\n",
       " 'Мир': 2121,\n",
       " 'Стиль': 2090,\n",
       " 'Игры': 2072,\n",
       " 'Рынки': 2012,\n",
       " 'Пресса': 1805,\n",
       " 'Искусство': 1795,\n",
       " 'Зимние виды': 1677,\n",
       " 'Полиция и спецслужбы': 1635,\n",
       " 'Закавказье': 1442,\n",
       " 'Деньги': 1361,\n",
       " 'Москва': 1312,\n",
       " 'Прибалтика': 1242,\n",
       " 'Театр': 1217,\n",
       " 'Оружие': 1216,\n",
       " 'Техника': 1208,\n",
       " 'Книги': 1208,\n",
       " 'Средняя Азия': 1131,\n",
       " 'Дача': 1084,\n",
       " 'Белоруссия': 916,\n",
       " 'Хоккей': 915,\n",
       " 'Мировой бизнес': 854,\n",
       " 'Движение': 834,\n",
       " 'Офис': 783,\n",
       " 'Внешний вид': 727,\n",
       " 'Достижения': 718,\n",
       " 'Инструменты': 710,\n",
       " 'Россия': 706,\n",
       " 'Часы': 662,\n",
       " 'Софт': 652,\n",
       " 'Мнения': 615,\n",
       " 'Мемы': 477,\n",
       " 'Вирусные ролики': 474,\n",
       " 'Еда': 457,\n",
       " 'Молдавия': 439,\n",
       " 'Вещи': 424,\n",
       " 'Реклама': 389,\n",
       " 'История': 347,\n",
       " 'Жизнь': 333,\n",
       " 'Автобизнес': 310,\n",
       " 'Киберпреступность': 169,\n",
       " 'Финансы компаний': 155,\n",
       " 'Преступная Россия': 144,\n",
       " 'Авто': 141,\n",
       " 'Туризм': 85,\n",
       " 'Социальная сфера': 70,\n",
       " 'Первая мировая': 65,\n",
       " 'Вкусы': 54,\n",
       " 'Экология': 53,\n",
       " 'Наследие': 46,\n",
       " 'Госрегулирование': 41,\n",
       " 'Производители': 36,\n",
       " 'Аналитика рынка': 28,\n",
       " 'Фотография': 28,\n",
       " 'Страноведение': 21,\n",
       " 'Выборы': 11,\n",
       " 'Мировой опыт': 6,\n",
       " 'Вооружение': 3,\n",
       " 'Инновации': 1}"
      ]
     },
     "execution_count": 13,
     "metadata": {},
     "output_type": "execute_result"
    }
   ],
   "source": [
    "cntr = Counter(ds.tags)\n",
    "{k: v for k, v in sorted(cntr.items(), key=lambda item: item[1], reverse=True)}"
   ]
  },
  {
   "cell_type": "code",
   "execution_count": 17,
   "metadata": {},
   "outputs": [
    {
     "name": "stdout",
     "output_type": "stream",
     "text": [
      "Collecting ipywidgets\n",
      "  Using cached ipywidgets-8.1.7-py3-none-any.whl.metadata (2.4 kB)\n",
      "Requirement already satisfied: comm>=0.1.3 in /Users/akzhansabibolda/Library/Python/3.10/lib/python/site-packages (from ipywidgets) (0.2.3)\n",
      "Requirement already satisfied: ipython>=6.1.0 in /Users/akzhansabibolda/Library/Python/3.10/lib/python/site-packages (from ipywidgets) (8.37.0)\n",
      "Requirement already satisfied: traitlets>=4.3.1 in /Users/akzhansabibolda/Library/Python/3.10/lib/python/site-packages (from ipywidgets) (5.14.3)\n",
      "Collecting widgetsnbextension~=4.0.14 (from ipywidgets)\n",
      "  Using cached widgetsnbextension-4.0.14-py3-none-any.whl.metadata (1.6 kB)\n",
      "Collecting jupyterlab_widgets~=3.0.15 (from ipywidgets)\n",
      "  Using cached jupyterlab_widgets-3.0.15-py3-none-any.whl.metadata (20 kB)\n",
      "Requirement already satisfied: decorator in /Users/akzhansabibolda/Library/Python/3.10/lib/python/site-packages (from ipython>=6.1.0->ipywidgets) (5.2.1)\n",
      "Requirement already satisfied: exceptiongroup in /Users/akzhansabibolda/Library/Python/3.10/lib/python/site-packages (from ipython>=6.1.0->ipywidgets) (1.3.0)\n",
      "Requirement already satisfied: jedi>=0.16 in /Users/akzhansabibolda/Library/Python/3.10/lib/python/site-packages (from ipython>=6.1.0->ipywidgets) (0.19.2)\n",
      "Requirement already satisfied: matplotlib-inline in /Users/akzhansabibolda/Library/Python/3.10/lib/python/site-packages (from ipython>=6.1.0->ipywidgets) (0.1.7)\n",
      "Requirement already satisfied: pexpect>4.3 in /Users/akzhansabibolda/Library/Python/3.10/lib/python/site-packages (from ipython>=6.1.0->ipywidgets) (4.9.0)\n",
      "Requirement already satisfied: prompt_toolkit<3.1.0,>=3.0.41 in /Users/akzhansabibolda/Library/Python/3.10/lib/python/site-packages (from ipython>=6.1.0->ipywidgets) (3.0.52)\n",
      "Requirement already satisfied: pygments>=2.4.0 in /Users/akzhansabibolda/Library/Python/3.10/lib/python/site-packages (from ipython>=6.1.0->ipywidgets) (2.19.2)\n",
      "Requirement already satisfied: stack_data in /Users/akzhansabibolda/Library/Python/3.10/lib/python/site-packages (from ipython>=6.1.0->ipywidgets) (0.6.3)\n",
      "Requirement already satisfied: typing_extensions>=4.6 in /Users/akzhansabibolda/Library/Python/3.10/lib/python/site-packages (from ipython>=6.1.0->ipywidgets) (4.15.0)\n",
      "Requirement already satisfied: wcwidth in /Users/akzhansabibolda/Library/Python/3.10/lib/python/site-packages (from prompt_toolkit<3.1.0,>=3.0.41->ipython>=6.1.0->ipywidgets) (0.2.13)\n",
      "Requirement already satisfied: parso<0.9.0,>=0.8.4 in /Users/akzhansabibolda/Library/Python/3.10/lib/python/site-packages (from jedi>=0.16->ipython>=6.1.0->ipywidgets) (0.8.5)\n",
      "Requirement already satisfied: ptyprocess>=0.5 in /Users/akzhansabibolda/Library/Python/3.10/lib/python/site-packages (from pexpect>4.3->ipython>=6.1.0->ipywidgets) (0.7.0)\n",
      "Requirement already satisfied: executing>=1.2.0 in /Users/akzhansabibolda/Library/Python/3.10/lib/python/site-packages (from stack_data->ipython>=6.1.0->ipywidgets) (2.2.1)\n",
      "Requirement already satisfied: asttokens>=2.1.0 in /Users/akzhansabibolda/Library/Python/3.10/lib/python/site-packages (from stack_data->ipython>=6.1.0->ipywidgets) (3.0.0)\n",
      "Requirement already satisfied: pure-eval in /Users/akzhansabibolda/Library/Python/3.10/lib/python/site-packages (from stack_data->ipython>=6.1.0->ipywidgets) (0.2.3)\n",
      "Using cached ipywidgets-8.1.7-py3-none-any.whl (139 kB)\n",
      "Using cached jupyterlab_widgets-3.0.15-py3-none-any.whl (216 kB)\n",
      "Using cached widgetsnbextension-4.0.14-py3-none-any.whl (2.2 MB)\n",
      "Installing collected packages: widgetsnbextension, jupyterlab_widgets, ipywidgets\n",
      "\u001b[2K   \u001b[90m━━━━━━━━━━━━━━━━━━━━━━━━━━━━━━━━━━━━━━━━\u001b[0m \u001b[32m3/3\u001b[0m [ipywidgets]\n",
      "\u001b[1A\u001b[2KSuccessfully installed ipywidgets-8.1.7 jupyterlab_widgets-3.0.15 widgetsnbextension-4.0.14\n"
     ]
    }
   ],
   "source": [
    "! pip install ipywidgets"
   ]
  },
  {
   "cell_type": "code",
   "execution_count": 19,
   "metadata": {},
   "outputs": [
    {
     "name": "stderr",
     "output_type": "stream",
     "text": [
      "\n",
      "\n",
      "100%|██████████| 1000/1000 [00:00<00:00, 12330.89it/s]\n"
     ]
    }
   ],
   "source": [
    "from tqdm.auto import tqdm\n",
    "\n",
    "texts = ds_sample.text.values\n",
    "#remove punctuation\n",
    "\n",
    "def rem_punc(t):\n",
    "# define punctuation\n",
    "    punctuations = '''!()-[]{};:'\"\\,<>./?@#$%^&*_~abcdefghijklmnopqrstuvwxyzABCDEFGHIJKLMNOPQRSTUVWXYZ1234567890'''\n",
    "\n",
    "\n",
    "# remove punctuation from the string\n",
    "    for c in punctuations:\n",
    "        t=t.replace(c,' ')\n",
    "\n",
    "\n",
    "# display the unpunctuated string\n",
    "    return t.replace('\\n',' ')\n",
    "\n",
    "\n",
    "no_punc_text = [rem_punc(t) for t in tqdm(texts)]"
   ]
  },
  {
   "cell_type": "code",
   "execution_count": 21,
   "metadata": {},
   "outputs": [
    {
     "name": "stderr",
     "output_type": "stream",
     "text": [
      "\n",
      "100%|██████████| 1000/1000 [00:00<00:00, 87457.86it/s]\n"
     ]
    },
    {
     "data": {
      "text/plain": [
       "'ушел в отставку «пожизненный президент» компании                  экс                    иэн ливингстон  о том  что он покинул свой пост  сообщается в записи в официальном блоге     в качестве официальной причины отставки называется желание ливингстона заниматься деятельностью  не связанной с издательством              так  после своего ухода он организовать фонд  который будет заниматься образовательной деятельностью  связанной с видеоиграми  там будут учить  как их создавать и как их использовать в обучающих целях   ливингстон также продолжит участвовать в деятельности ряда некоммерческих игровых организаций вроде          отставка ливингстона состоялась через три месяца после того  как из монреальского отделения компании ушел ее руководитель стефан д астуа  причиной его отставки стало недовольство политикой руководителей европейского отделения              связан ли уход ливингстона с этим фактом  пока не сообщается  иэн ливингстон возглавлял компанию                   с    х годов  во время  когда он руководил компанией     запустила свои ключевые франшизы  в том числе                                     и                 после того  как компания слилась со              ливингстона назначили ее «пожизненным президентом»  до того  как присоединиться к британскому издательству  ливингстон работал в компании                  перед тем  как заняться созданием видеоигр  ливингстон занимался созданием серии настольных ролевых игр                   он также был одним из основателей компании               '"
      ]
     },
     "execution_count": 21,
     "metadata": {},
     "output_type": "execute_result"
    }
   ],
   "source": [
    "#lowercase\n",
    "lc_text = [t.lower() for t in tqdm(no_punc_text)]\n",
    "lc_text[0]"
   ]
  },
  {
   "cell_type": "code",
   "execution_count": 22,
   "metadata": {},
   "outputs": [
    {
     "name": "stderr",
     "output_type": "stream",
     "text": [
      "Exception ignored in: <function tqdm.__del__ at 0x11eccdea0>\n",
      "Traceback (most recent call last):\n",
      "  File \"/opt/homebrew/lib/python3.10/site-packages/tqdm/std.py\", line 1148, in __del__\n",
      "    self.close()\n",
      "  File \"/opt/homebrew/lib/python3.10/site-packages/tqdm/notebook.py\", line 279, in close\n",
      "    self.disp(bar_style='danger', check_delay=False)\n",
      "AttributeError: 'tqdm_notebook' object has no attribute 'disp'\n",
      "Exception ignored in: <function tqdm.__del__ at 0x11eccdea0>\n",
      "Traceback (most recent call last):\n",
      "  File \"/opt/homebrew/lib/python3.10/site-packages/tqdm/std.py\", line 1148, in __del__\n",
      "    self.close()\n",
      "  File \"/opt/homebrew/lib/python3.10/site-packages/tqdm/notebook.py\", line 279, in close\n",
      "    self.disp(bar_style='danger', check_delay=False)\n",
      "AttributeError: 'tqdm_notebook' object has no attribute 'disp'\n",
      "[nltk_data] Downloading package stopwords to\n",
      "[nltk_data]     /Users/akzhansabibolda/nltk_data...\n",
      "[nltk_data]   Package stopwords is already up-to-date!\n"
     ]
    }
   ],
   "source": [
    "#stopword removal\n",
    "import nltk\n",
    "from nltk.corpus import stopwords\n",
    "import nltk\n",
    "nltk.download('stopwords')\n",
    "sw = stopwords.words('russian')"
   ]
  },
  {
   "cell_type": "code",
   "execution_count": 23,
   "metadata": {
    "collapsed": true,
    "jupyter": {
     "outputs_hidden": true
    }
   },
   "outputs": [
    {
     "data": {
      "text/plain": [
       "['и',\n",
       " 'в',\n",
       " 'во',\n",
       " 'не',\n",
       " 'что',\n",
       " 'он',\n",
       " 'на',\n",
       " 'я',\n",
       " 'с',\n",
       " 'со',\n",
       " 'как',\n",
       " 'а',\n",
       " 'то',\n",
       " 'все',\n",
       " 'она',\n",
       " 'так',\n",
       " 'его',\n",
       " 'но',\n",
       " 'да',\n",
       " 'ты',\n",
       " 'к',\n",
       " 'у',\n",
       " 'же',\n",
       " 'вы',\n",
       " 'за',\n",
       " 'бы',\n",
       " 'по',\n",
       " 'только',\n",
       " 'ее',\n",
       " 'мне',\n",
       " 'было',\n",
       " 'вот',\n",
       " 'от',\n",
       " 'меня',\n",
       " 'еще',\n",
       " 'нет',\n",
       " 'о',\n",
       " 'из',\n",
       " 'ему',\n",
       " 'теперь',\n",
       " 'когда',\n",
       " 'даже',\n",
       " 'ну',\n",
       " 'вдруг',\n",
       " 'ли',\n",
       " 'если',\n",
       " 'уже',\n",
       " 'или',\n",
       " 'ни',\n",
       " 'быть',\n",
       " 'был',\n",
       " 'него',\n",
       " 'до',\n",
       " 'вас',\n",
       " 'нибудь',\n",
       " 'опять',\n",
       " 'уж',\n",
       " 'вам',\n",
       " 'ведь',\n",
       " 'там',\n",
       " 'потом',\n",
       " 'себя',\n",
       " 'ничего',\n",
       " 'ей',\n",
       " 'может',\n",
       " 'они',\n",
       " 'тут',\n",
       " 'где',\n",
       " 'есть',\n",
       " 'надо',\n",
       " 'ней',\n",
       " 'для',\n",
       " 'мы',\n",
       " 'тебя',\n",
       " 'их',\n",
       " 'чем',\n",
       " 'была',\n",
       " 'сам',\n",
       " 'чтоб',\n",
       " 'без',\n",
       " 'будто',\n",
       " 'чего',\n",
       " 'раз',\n",
       " 'тоже',\n",
       " 'себе',\n",
       " 'под',\n",
       " 'будет',\n",
       " 'ж',\n",
       " 'тогда',\n",
       " 'кто',\n",
       " 'этот',\n",
       " 'того',\n",
       " 'потому',\n",
       " 'этого',\n",
       " 'какой',\n",
       " 'совсем',\n",
       " 'ним',\n",
       " 'здесь',\n",
       " 'этом',\n",
       " 'один',\n",
       " 'почти',\n",
       " 'мой',\n",
       " 'тем',\n",
       " 'чтобы',\n",
       " 'нее',\n",
       " 'сейчас',\n",
       " 'были',\n",
       " 'куда',\n",
       " 'зачем',\n",
       " 'всех',\n",
       " 'никогда',\n",
       " 'можно',\n",
       " 'при',\n",
       " 'наконец',\n",
       " 'два',\n",
       " 'об',\n",
       " 'другой',\n",
       " 'хоть',\n",
       " 'после',\n",
       " 'над',\n",
       " 'больше',\n",
       " 'тот',\n",
       " 'через',\n",
       " 'эти',\n",
       " 'нас',\n",
       " 'про',\n",
       " 'всего',\n",
       " 'них',\n",
       " 'какая',\n",
       " 'много',\n",
       " 'разве',\n",
       " 'три',\n",
       " 'эту',\n",
       " 'моя',\n",
       " 'впрочем',\n",
       " 'хорошо',\n",
       " 'свою',\n",
       " 'этой',\n",
       " 'перед',\n",
       " 'иногда',\n",
       " 'лучше',\n",
       " 'чуть',\n",
       " 'том',\n",
       " 'нельзя',\n",
       " 'такой',\n",
       " 'им',\n",
       " 'более',\n",
       " 'всегда',\n",
       " 'конечно',\n",
       " 'всю',\n",
       " 'между']"
      ]
     },
     "execution_count": 23,
     "metadata": {},
     "output_type": "execute_result"
    }
   ],
   "source": [
    "sw"
   ]
  },
  {
   "cell_type": "code",
   "execution_count": 27,
   "metadata": {},
   "outputs": [
    {
     "name": "stdout",
     "output_type": "stream",
     "text": [
      "Original: ['Я', 'очень', 'люблю', 'изучать', 'обработку', 'естественного', 'языка']\n",
      "Without stopwords: ['очень', 'люблю', 'изучать', 'обработку', 'естественного', 'языка']\n"
     ]
    }
   ],
   "source": [
    "text = \"Я очень люблю изучать обработку естественного языка\"\n",
    "\n",
    "# tokenize into words\n",
    "words = nltk.word_tokenize(text, language=\"russian\")\n",
    "\n",
    "# filter out stopwords\n",
    "filtered = [w for w in words if w.lower() not in sw]\n",
    "\n",
    "print(\"Original:\", words)\n",
    "print(\"Without stopwords:\", filtered)"
   ]
  },
  {
   "cell_type": "code",
   "execution_count": 28,
   "metadata": {},
   "outputs": [
    {
     "data": {
      "text/html": [
       "<div>\n",
       "<style scoped>\n",
       "    .dataframe tbody tr th:only-of-type {\n",
       "        vertical-align: middle;\n",
       "    }\n",
       "\n",
       "    .dataframe tbody tr th {\n",
       "        vertical-align: top;\n",
       "    }\n",
       "\n",
       "    .dataframe thead th {\n",
       "        text-align: right;\n",
       "    }\n",
       "</style>\n",
       "<table border=\"1\" class=\"dataframe\">\n",
       "  <thead>\n",
       "    <tr style=\"text-align: right;\">\n",
       "      <th></th>\n",
       "      <th>url</th>\n",
       "      <th>title</th>\n",
       "      <th>text</th>\n",
       "      <th>topic</th>\n",
       "      <th>tags</th>\n",
       "      <th>date</th>\n",
       "    </tr>\n",
       "  </thead>\n",
       "  <tbody>\n",
       "    <tr>\n",
       "      <th>0</th>\n",
       "      <td>https://lenta.ru/news/1914/09/16/hungarnn/</td>\n",
       "      <td>1914. Русские войска вступили в пределы Венгрии</td>\n",
       "      <td>Бои у Сопоцкина и Друскеник закончились отступ...</td>\n",
       "      <td>Библиотека</td>\n",
       "      <td>Первая мировая</td>\n",
       "      <td>1914/09/16</td>\n",
       "    </tr>\n",
       "    <tr>\n",
       "      <th>1</th>\n",
       "      <td>https://lenta.ru/news/1914/09/16/lermontov/</td>\n",
       "      <td>1914. Празднование столетия М.Ю. Лермонтова от...</td>\n",
       "      <td>Министерство народного просвещения, в виду про...</td>\n",
       "      <td>Библиотека</td>\n",
       "      <td>Первая мировая</td>\n",
       "      <td>1914/09/16</td>\n",
       "    </tr>\n",
       "    <tr>\n",
       "      <th>2</th>\n",
       "      <td>https://lenta.ru/news/1914/09/17/nesteroff/</td>\n",
       "      <td>1914. Das ist Nesteroff!</td>\n",
       "      <td>Штабс-капитан П. Н. Нестеров на днях, увидев в...</td>\n",
       "      <td>Библиотека</td>\n",
       "      <td>Первая мировая</td>\n",
       "      <td>1914/09/17</td>\n",
       "    </tr>\n",
       "    <tr>\n",
       "      <th>3</th>\n",
       "      <td>https://lenta.ru/news/1914/09/17/bulldogn/</td>\n",
       "      <td>1914. Бульдог-гонец под Льежем</td>\n",
       "      <td>Фотограф-корреспондент Daily Mirror рассказыва...</td>\n",
       "      <td>Библиотека</td>\n",
       "      <td>Первая мировая</td>\n",
       "      <td>1914/09/17</td>\n",
       "    </tr>\n",
       "    <tr>\n",
       "      <th>4</th>\n",
       "      <td>https://lenta.ru/news/1914/09/18/zver/</td>\n",
       "      <td>1914. Под Люблином пойман швабский зверь</td>\n",
       "      <td>Лица, приехавшие в Варшаву из Люблина, передаю...</td>\n",
       "      <td>Библиотека</td>\n",
       "      <td>Первая мировая</td>\n",
       "      <td>1914/09/18</td>\n",
       "    </tr>\n",
       "  </tbody>\n",
       "</table>\n",
       "</div>"
      ],
      "text/plain": [
       "                                           url  \\\n",
       "0   https://lenta.ru/news/1914/09/16/hungarnn/   \n",
       "1  https://lenta.ru/news/1914/09/16/lermontov/   \n",
       "2  https://lenta.ru/news/1914/09/17/nesteroff/   \n",
       "3   https://lenta.ru/news/1914/09/17/bulldogn/   \n",
       "4       https://lenta.ru/news/1914/09/18/zver/   \n",
       "\n",
       "                                               title  \\\n",
       "0  1914. Русские войска вступили в пределы Венгрии     \n",
       "1  1914. Празднование столетия М.Ю. Лермонтова от...   \n",
       "2                           1914. Das ist Nesteroff!   \n",
       "3                    1914. Бульдог-гонец под Льежем    \n",
       "4           1914. Под Люблином пойман швабский зверь   \n",
       "\n",
       "                                                text       topic  \\\n",
       "0  Бои у Сопоцкина и Друскеник закончились отступ...  Библиотека   \n",
       "1  Министерство народного просвещения, в виду про...  Библиотека   \n",
       "2  Штабс-капитан П. Н. Нестеров на днях, увидев в...  Библиотека   \n",
       "3  Фотограф-корреспондент Daily Mirror рассказыва...  Библиотека   \n",
       "4  Лица, приехавшие в Варшаву из Люблина, передаю...  Библиотека   \n",
       "\n",
       "             tags        date  \n",
       "0  Первая мировая  1914/09/16  \n",
       "1  Первая мировая  1914/09/16  \n",
       "2  Первая мировая  1914/09/17  \n",
       "3  Первая мировая  1914/09/17  \n",
       "4  Первая мировая  1914/09/18  "
      ]
     },
     "execution_count": 28,
     "metadata": {},
     "output_type": "execute_result"
    }
   ],
   "source": [
    "ds.head()"
   ]
  },
  {
   "cell_type": "code",
   "execution_count": 29,
   "metadata": {},
   "outputs": [
    {
     "data": {
      "text/plain": [
       "'1914. Русские войска вступили в\\xa0пределы Венгрии  '"
      ]
     },
     "execution_count": 29,
     "metadata": {},
     "output_type": "execute_result"
    }
   ],
   "source": [
    "ds['title'][0]"
   ]
  },
  {
   "cell_type": "code",
   "execution_count": 30,
   "metadata": {},
   "outputs": [],
   "source": [
    "words = nltk.word_tokenize(ds['title'][0], language=\"russian\")"
   ]
  },
  {
   "cell_type": "code",
   "execution_count": 31,
   "metadata": {},
   "outputs": [
    {
     "data": {
      "text/plain": [
       "['1914', '.', 'Русские', 'войска', 'вступили', 'в', 'пределы', 'Венгрии']"
      ]
     },
     "execution_count": 31,
     "metadata": {},
     "output_type": "execute_result"
    }
   ],
   "source": [
    "words"
   ]
  },
  {
   "cell_type": "markdown",
   "metadata": {},
   "source": [
    "My part: "
   ]
  },
  {
   "cell_type": "code",
   "execution_count": 34,
   "metadata": {},
   "outputs": [
    {
     "name": "stderr",
     "output_type": "stream",
     "text": [
      "[nltk_data] Downloading package punkt to\n",
      "[nltk_data]     /Users/akzhansabibolda/nltk_data...\n",
      "[nltk_data]   Package punkt is already up-to-date!\n"
     ]
    }
   ],
   "source": [
    "# Clean the data set from stop words\n",
    "# your code\n",
    "\n",
    "#remove stop words\n",
    "#apply stemming\n",
    "#resave the file.csv\n",
    "\n",
    "nltk.download('punkt') \n",
    "\n",
    "from nltk.stem.snowball import SnowballStemmer \n",
    "from tqdm.auto import tqdm \n"
   ]
  },
  {
   "cell_type": "code",
   "execution_count": 36,
   "metadata": {},
   "outputs": [],
   "source": [
    "stemmer = SnowballStemmer(\"russian\") \n",
    "\n",
    "def to_tokens_no_sw(text: str): #removing stopwords \n",
    "    if text is None: \n",
    "        return [] \n",
    "    #lowercased + tokenized \n",
    "    toks = nltk.word_tokenize(str(text).lower(), language=\"russian\") \n",
    "    #remove stopwords \n",
    "    return [w for w in toks if w not in sw] \n",
    "\n",
    "def stem_tokens(tokens): \n",
    "    return [stemmer.stem(w) for w in tokens]"
   ]
  },
  {
   "cell_type": "code",
   "execution_count": null,
   "metadata": {},
   "outputs": [
    {
     "name": "stderr",
     "output_type": "stream",
     "text": [
      "remove_stopwords: 100%|██████████| 1000/1000 [00:00<00:00, 1154.04it/s]\n",
      "stemming: 100%|██████████| 1000/1000 [00:02<00:00, 351.87it/s]\n"
     ]
    },
    {
     "data": {
      "text/plain": [
       "0      ушел отставку « пожизненный президент » компан...\n",
       "1      самолет ввс россии ан-26 понедельник вновь нар...\n",
       "2      раскрыть информацию типе количестве примененны...\n",
       "3      экологическая организация `` greenpeace россии...\n",
       "4      министерство труда рф своем отчете итогам пров...\n",
       "                             ...                        \n",
       "995    новые плееры apple ipod будут представлены сен...\n",
       "996    генеральный директор nokia стивен илоп назвал ...\n",
       "997    издательский дом родионова экономическим причи...\n",
       "998    предполагаемой причиной пожара , унесшего жизн...\n",
       "999    всемирный банк увеличил прогноз инфляции украи...\n",
       "Name: text_no_sw, Length: 1000, dtype: object"
      ]
     },
     "execution_count": 38,
     "metadata": {},
     "output_type": "execute_result"
    }
   ],
   "source": [
    "#apply to the new_data dataset \n",
    "#remove sw \n",
    "tokens_wo_sw = [to_tokens_no_sw(t) for t in tqdm(new_data['text'].tolist(), desc='remove_stopwords')] \n",
    "#stemming \n",
    "tokens_stemmed = [stem_tokens(toks) for toks in tqdm(tokens_wo_sw, desc = 'stemming')]\n",
    "new_data['text_no_sw'] = [' '.join(toks) for toks in tokens_wo_sw] \n",
    "#the final text \n",
    "new_data['text_stem'] = [' '.join(toks) for toks in tokens_stemmed] \n",
    "\n",
    "new_data['text_no_sw'] #just to see "
   ]
  },
  {
   "cell_type": "code",
   "execution_count": 43,
   "metadata": {},
   "outputs": [
    {
     "data": {
      "text/plain": [
       "0      ушел отставк « пожизнен президент » компан squ...\n",
       "1      самолет ввс росс ан-26 понедельник внов наруш ...\n",
       "2      раскр информац тип количеств применен вооружен...\n",
       "3      экологическ организац `` greenpeace росс '' за...\n",
       "4      министерств труд рф сво отчет итог проверк кол...\n",
       "                             ...                        \n",
       "995    нов плеер apple ipod будут представл сентябр т...\n",
       "996    генеральн директор nokia стив илоп назва ipad ...\n",
       "997    издательск дом родионов экономическ причин пре...\n",
       "998    предполага причин пожар , унесш жизн семер дет...\n",
       "999    всемирн банк увелич прогноз инфляц украин 17,2...\n",
       "Name: text_stem, Length: 1000, dtype: object"
      ]
     },
     "execution_count": 43,
     "metadata": {},
     "output_type": "execute_result"
    }
   ],
   "source": [
    "#the final: both sw removed and stemmed \n",
    "new_data['text_stem']\n"
   ]
  },
  {
   "cell_type": "code",
   "execution_count": 49,
   "metadata": {},
   "outputs": [
    {
     "data": {
      "text/html": [
       "<div>\n",
       "<style scoped>\n",
       "    .dataframe tbody tr th:only-of-type {\n",
       "        vertical-align: middle;\n",
       "    }\n",
       "\n",
       "    .dataframe tbody tr th {\n",
       "        vertical-align: top;\n",
       "    }\n",
       "\n",
       "    .dataframe thead th {\n",
       "        text-align: right;\n",
       "    }\n",
       "</style>\n",
       "<table border=\"1\" class=\"dataframe\">\n",
       "  <thead>\n",
       "    <tr style=\"text-align: right;\">\n",
       "      <th></th>\n",
       "      <th>url</th>\n",
       "      <th>title</th>\n",
       "      <th>text</th>\n",
       "      <th>topic</th>\n",
       "      <th>tags</th>\n",
       "      <th>date</th>\n",
       "      <th>text_no_sw</th>\n",
       "      <th>text_stem</th>\n",
       "    </tr>\n",
       "  </thead>\n",
       "  <tbody>\n",
       "    <tr>\n",
       "      <th>0</th>\n",
       "      <td>https://lenta.ru/news/2013/10/01/livingstone/</td>\n",
       "      <td>Ушел в отставку «пожизненный президент» Eidos ...</td>\n",
       "      <td>Ушел в отставку «пожизненный президент» компан...</td>\n",
       "      <td>Наука и техника</td>\n",
       "      <td>Игры</td>\n",
       "      <td>2013/10/01</td>\n",
       "      <td>ушел отставку « пожизненный президент » компан...</td>\n",
       "      <td>ушел отставк « пожизнен президент » компан squ...</td>\n",
       "    </tr>\n",
       "    <tr>\n",
       "      <th>1</th>\n",
       "      <td>https://lenta.ru/news/2005/10/25/estonia/</td>\n",
       "      <td>Российский военный самолет вторгся в эстонское...</td>\n",
       "      <td>Самолет ВВС России Ан-26 в понедельник вновь н...</td>\n",
       "      <td>Бывший СССР</td>\n",
       "      <td>Все</td>\n",
       "      <td>2005/10/25</td>\n",
       "      <td>самолет ввс россии ан-26 понедельник вновь нар...</td>\n",
       "      <td>самолет ввс росс ан-26 понедельник внов наруш ...</td>\n",
       "    </tr>\n",
       "    <tr>\n",
       "      <th>2</th>\n",
       "      <td>https://lenta.ru/news/2008/08/29/weaponry/</td>\n",
       "      <td>Совет Европы попросил РФ и Грузию рассказать о...</td>\n",
       "      <td>Раскрыть информацию о типе и количестве примен...</td>\n",
       "      <td>Россия</td>\n",
       "      <td>Все</td>\n",
       "      <td>2008/08/29</td>\n",
       "      <td>раскрыть информацию типе количестве примененны...</td>\n",
       "      <td>раскр информац тип количеств применен вооружен...</td>\n",
       "    </tr>\n",
       "    <tr>\n",
       "      <th>3</th>\n",
       "      <td>https://lenta.ru/news/2000/02/23/greenpeace/</td>\n",
       "      <td>Экологи не занимаются шантажом</td>\n",
       "      <td>Экологическая  организация \"Greenpeace  России...</td>\n",
       "      <td>Россия</td>\n",
       "      <td>Все</td>\n",
       "      <td>2000/02/23</td>\n",
       "      <td>экологическая организация `` greenpeace россии...</td>\n",
       "      <td>экологическ организац `` greenpeace росс '' за...</td>\n",
       "    </tr>\n",
       "    <tr>\n",
       "      <th>4</th>\n",
       "      <td>https://lenta.ru/news/2013/11/19/mintruda/</td>\n",
       "      <td>Минтруда отчиталось о проверке колонии Толокон...</td>\n",
       "      <td>Министерство труда РФ в своем отчете по итогам...</td>\n",
       "      <td>Россия</td>\n",
       "      <td>Общество</td>\n",
       "      <td>2013/11/19</td>\n",
       "      <td>министерство труда рф своем отчете итогам пров...</td>\n",
       "      <td>министерств труд рф сво отчет итог проверк кол...</td>\n",
       "    </tr>\n",
       "    <tr>\n",
       "      <th>...</th>\n",
       "      <td>...</td>\n",
       "      <td>...</td>\n",
       "      <td>...</td>\n",
       "      <td>...</td>\n",
       "      <td>...</td>\n",
       "      <td>...</td>\n",
       "      <td>...</td>\n",
       "      <td>...</td>\n",
       "    </tr>\n",
       "    <tr>\n",
       "      <th>995</th>\n",
       "      <td>https://lenta.ru/news/2008/08/25/ipod/</td>\n",
       "      <td>Apple представит овальный iPod Nano в сентябре</td>\n",
       "      <td>Новые плееры Apple iPod будут представлены в с...</td>\n",
       "      <td>Наука и техника</td>\n",
       "      <td>Все</td>\n",
       "      <td>2008/08/25</td>\n",
       "      <td>новые плееры apple ipod будут представлены сен...</td>\n",
       "      <td>нов плеер apple ipod будут представл сентябр т...</td>\n",
       "    </tr>\n",
       "    <tr>\n",
       "      <th>996</th>\n",
       "      <td>https://lenta.ru/news/2011/05/05/meego/</td>\n",
       "      <td>Глава Nokia назвал iPad единственным успешным ...</td>\n",
       "      <td>Генеральный директор Nokia Стивен Илоп назвал ...</td>\n",
       "      <td>Наука и техника</td>\n",
       "      <td>Все</td>\n",
       "      <td>2011/05/05</td>\n",
       "      <td>генеральный директор nokia стивен илоп назвал ...</td>\n",
       "      <td>генеральн директор nokia стив илоп назва ipad ...</td>\n",
       "    </tr>\n",
       "    <tr>\n",
       "      <th>997</th>\n",
       "      <td>https://lenta.ru/news/2013/12/25/chain/</td>\n",
       "      <td>Бумажную версию эротического журнала XXL закроют</td>\n",
       "      <td>Издательский дом Родионова по экономическим пр...</td>\n",
       "      <td>Интернет и СМИ</td>\n",
       "      <td>Пресса</td>\n",
       "      <td>2013/12/25</td>\n",
       "      <td>издательский дом родионова экономическим причи...</td>\n",
       "      <td>издательск дом родионов экономическ причин пре...</td>\n",
       "    </tr>\n",
       "    <tr>\n",
       "      <th>998</th>\n",
       "      <td>https://lenta.ru/news/2015/10/09/gaz/</td>\n",
       "      <td>Названа предполагаемая причина пожара с семью ...</td>\n",
       "      <td>Предполагаемой причиной пожара, унесшего жизни...</td>\n",
       "      <td>Силовые структуры</td>\n",
       "      <td>Следствие и суд</td>\n",
       "      <td>2015/10/09</td>\n",
       "      <td>предполагаемой причиной пожара , унесшего жизн...</td>\n",
       "      <td>предполага причин пожар , унесш жизн семер дет...</td>\n",
       "    </tr>\n",
       "    <tr>\n",
       "      <th>999</th>\n",
       "      <td>https://lenta.ru/news/2008/07/18/inflation/</td>\n",
       "      <td>Всемирный банк повысил прогноз инфляции для Ук...</td>\n",
       "      <td>Всемирный банк увеличил прогноз по инфляции на...</td>\n",
       "      <td>Экономика</td>\n",
       "      <td>Все</td>\n",
       "      <td>2008/07/18</td>\n",
       "      <td>всемирный банк увеличил прогноз инфляции украи...</td>\n",
       "      <td>всемирн банк увелич прогноз инфляц украин 17,2...</td>\n",
       "    </tr>\n",
       "  </tbody>\n",
       "</table>\n",
       "<p>1000 rows × 8 columns</p>\n",
       "</div>"
      ],
      "text/plain": [
       "                                               url  \\\n",
       "0    https://lenta.ru/news/2013/10/01/livingstone/   \n",
       "1        https://lenta.ru/news/2005/10/25/estonia/   \n",
       "2       https://lenta.ru/news/2008/08/29/weaponry/   \n",
       "3     https://lenta.ru/news/2000/02/23/greenpeace/   \n",
       "4       https://lenta.ru/news/2013/11/19/mintruda/   \n",
       "..                                             ...   \n",
       "995         https://lenta.ru/news/2008/08/25/ipod/   \n",
       "996        https://lenta.ru/news/2011/05/05/meego/   \n",
       "997        https://lenta.ru/news/2013/12/25/chain/   \n",
       "998          https://lenta.ru/news/2015/10/09/gaz/   \n",
       "999    https://lenta.ru/news/2008/07/18/inflation/   \n",
       "\n",
       "                                                 title  \\\n",
       "0    Ушел в отставку «пожизненный президент» Eidos ...   \n",
       "1    Российский военный самолет вторгся в эстонское...   \n",
       "2    Совет Европы попросил РФ и Грузию рассказать о...   \n",
       "3                       Экологи не занимаются шантажом   \n",
       "4    Минтруда отчиталось о проверке колонии Толокон...   \n",
       "..                                                 ...   \n",
       "995     Apple представит овальный iPod Nano в сентябре   \n",
       "996  Глава Nokia назвал iPad единственным успешным ...   \n",
       "997   Бумажную версию эротического журнала XXL закроют   \n",
       "998  Названа предполагаемая причина пожара с семью ...   \n",
       "999  Всемирный банк повысил прогноз инфляции для Ук...   \n",
       "\n",
       "                                                  text              topic  \\\n",
       "0    Ушел в отставку «пожизненный президент» компан...    Наука и техника   \n",
       "1    Самолет ВВС России Ан-26 в понедельник вновь н...        Бывший СССР   \n",
       "2    Раскрыть информацию о типе и количестве примен...             Россия   \n",
       "3    Экологическая  организация \"Greenpeace  России...             Россия   \n",
       "4    Министерство труда РФ в своем отчете по итогам...             Россия   \n",
       "..                                                 ...                ...   \n",
       "995  Новые плееры Apple iPod будут представлены в с...    Наука и техника   \n",
       "996  Генеральный директор Nokia Стивен Илоп назвал ...    Наука и техника   \n",
       "997  Издательский дом Родионова по экономическим пр...     Интернет и СМИ   \n",
       "998  Предполагаемой причиной пожара, унесшего жизни...  Силовые структуры   \n",
       "999  Всемирный банк увеличил прогноз по инфляции на...          Экономика   \n",
       "\n",
       "                tags        date  \\\n",
       "0               Игры  2013/10/01   \n",
       "1                Все  2005/10/25   \n",
       "2                Все  2008/08/29   \n",
       "3                Все  2000/02/23   \n",
       "4           Общество  2013/11/19   \n",
       "..               ...         ...   \n",
       "995              Все  2008/08/25   \n",
       "996              Все  2011/05/05   \n",
       "997           Пресса  2013/12/25   \n",
       "998  Следствие и суд  2015/10/09   \n",
       "999              Все  2008/07/18   \n",
       "\n",
       "                                            text_no_sw  \\\n",
       "0    ушел отставку « пожизненный президент » компан...   \n",
       "1    самолет ввс россии ан-26 понедельник вновь нар...   \n",
       "2    раскрыть информацию типе количестве примененны...   \n",
       "3    экологическая организация `` greenpeace россии...   \n",
       "4    министерство труда рф своем отчете итогам пров...   \n",
       "..                                                 ...   \n",
       "995  новые плееры apple ipod будут представлены сен...   \n",
       "996  генеральный директор nokia стивен илоп назвал ...   \n",
       "997  издательский дом родионова экономическим причи...   \n",
       "998  предполагаемой причиной пожара , унесшего жизн...   \n",
       "999  всемирный банк увеличил прогноз инфляции украи...   \n",
       "\n",
       "                                             text_stem  \n",
       "0    ушел отставк « пожизнен президент » компан squ...  \n",
       "1    самолет ввс росс ан-26 понедельник внов наруш ...  \n",
       "2    раскр информац тип количеств применен вооружен...  \n",
       "3    экологическ организац `` greenpeace росс '' за...  \n",
       "4    министерств труд рф сво отчет итог проверк кол...  \n",
       "..                                                 ...  \n",
       "995  нов плеер apple ipod будут представл сентябр т...  \n",
       "996  генеральн директор nokia стив илоп назва ipad ...  \n",
       "997  издательск дом родионов экономическ причин пре...  \n",
       "998  предполага причин пожар , унесш жизн семер дет...  \n",
       "999  всемирн банк увелич прогноз инфляц украин 17,2...  \n",
       "\n",
       "[1000 rows x 8 columns]"
      ]
     },
     "execution_count": 49,
     "metadata": {},
     "output_type": "execute_result"
    }
   ],
   "source": [
    "new_data"
   ]
  },
  {
   "cell_type": "code",
   "execution_count": null,
   "metadata": {},
   "outputs": [],
   "source": [
    "#dropping helper columns and keeping the final cleaned field \n",
    "new_data['text'] = new_data['text_stem']\n",
    "new_data = new_data.drop(columns=['text_no_sw'], errors='ignore')"
   ]
  },
  {
   "cell_type": "code",
   "execution_count": 55,
   "metadata": {},
   "outputs": [],
   "source": [
    "#resave to file.csv \n",
    "new_data.to_csv('new_data_cleaned.csv', index = False) "
   ]
  }
 ],
 "metadata": {
  "kernelspec": {
   "display_name": "Python 3",
   "language": "python",
   "name": "python3"
  },
  "language_info": {
   "codemirror_mode": {
    "name": "ipython",
    "version": 3
   },
   "file_extension": ".py",
   "mimetype": "text/x-python",
   "name": "python",
   "nbconvert_exporter": "python",
   "pygments_lexer": "ipython3",
   "version": "3.10.11"
  }
 },
 "nbformat": 4,
 "nbformat_minor": 4
}
